{
 "cells": [
  {
   "cell_type": "code",
   "execution_count": null,
   "id": "62cb0c98-55f7-4ade-811e-331b206e02e1",
   "metadata": {
    "tags": []
   },
   "outputs": [],
   "source": [
    "# !pip install dask-yarn"
   ]
  },
  {
   "cell_type": "code",
   "execution_count": null,
   "id": "11bed8c3-0c59-4841-9c89-b9e280e4f507",
   "metadata": {
    "tags": []
   },
   "outputs": [],
   "source": [
    "# !conda install -c conda-forge dask-yarn\n",
    "# import sys\n",
    "# sys.version"
   ]
  },
  {
   "cell_type": "code",
   "execution_count": null,
   "id": "38431c4f-85c6-4ee2-99c3-6afa9e5e0052",
   "metadata": {},
   "outputs": [],
   "source": []
  },
  {
   "cell_type": "code",
   "execution_count": null,
   "id": "54efeb09-343e-440f-9bf9-8bf9a24b1cbe",
   "metadata": {},
   "outputs": [],
   "source": []
  },
  {
   "cell_type": "code",
   "execution_count": null,
   "id": "7d258eb3-a5be-4aa3-b623-53fe95f242a1",
   "metadata": {},
   "outputs": [],
   "source": []
  },
  {
   "cell_type": "code",
   "execution_count": null,
   "id": "b9ca8546",
   "metadata": {},
   "outputs": [],
   "source": []
  },
  {
   "cell_type": "code",
   "execution_count": null,
   "id": "fa3458ac-f0bd-4a6b-a5d3-b52a12ec9b33",
   "metadata": {},
   "outputs": [],
   "source": [
    "\n"
   ]
  },
  {
   "cell_type": "code",
   "execution_count": null,
   "id": "ae2044d7-97b2-45af-916f-3a39da437d45",
   "metadata": {},
   "outputs": [],
   "source": [
    "#tag::ex_yarn_deployment[]\n",
    "\n",
    "from dask_yarn import YarnCluster\n",
    "from dask.distributed import Client\n",
    "\n",
    "# Create a cluster where each worker has two cores and eight GiB of memory\n",
    "cluster = YarnCluster(\n",
    "    environment='your_environment.tar.gz',\n",
    "    worker_vcores=2,\n",
    "    worker_memory=\"4GiB\")\n",
    "\n",
    "# Scale out to num_workers such workers\n",
    "cluster.scale(num_workers)\n",
    "\n",
    "# Connect to the cluster\n",
    "client = Client(cluster)\n",
    "#end::ex_yarn_deployment"
   ]
  },
  {
   "cell_type": "code",
   "execution_count": null,
   "id": "33723bd3",
   "metadata": {
    "tags": []
   },
   "outputs": [],
   "source": []
  },
  {
   "cell_type": "code",
   "execution_count": null,
   "id": "c49b8049",
   "metadata": {},
   "outputs": [],
   "source": [
    "#tag::ex_slurm_deployment[]\n",
    "from dask_jobqueue import SLURMCluster\n",
    "from dask.distributed import Client\n",
    "\n",
    "cluster = SLURMCluster(\n",
    "    queue='regular',\n",
    "    account=\"slurm_caccount\",\n",
    "    cores=24,\n",
    "    memory=\"500 GB\"\n",
    ")\n",
    "cluster.scale(jobs=SLURM_JOB_COUNT)  # ask for N jobs from SLURM\n",
    "\n",
    "client = Client(cluster)\n",
    "\n",
    "cluster.adapt(minimum_jobs=10, maximum_jobs=100)  # auto-scale between 10 and 100 jobs\n",
    "cluster.adapt(maximum_memory=\"10 TB\")  # or use core/memory limits\n",
    "#end::ex_slurm_deployment"
   ]
  },
  {
   "cell_type": "code",
   "execution_count": null,
   "id": "a90006d4",
   "metadata": {},
   "outputs": [],
   "source": []
  },
  {
   "cell_type": "code",
   "execution_count": null,
   "id": "bfbaeccc-2eec-43aa-ad25-4d71e28a6889",
   "metadata": {
    "tags": []
   },
   "outputs": [],
   "source": [
    "#tag::ex_s3_minio_rw[]\n",
    "import s3fs\n",
    "import pyarrow as pa\n",
    "import pyarrow.parquet as pq\n",
    "\n",
    "minio_storage_options = {\n",
    "    \"key\": MINIO_KEY,\n",
    "    \"secret\": MINIO_SECRET,\n",
    "    \"client_kwargs\": {\n",
    "        \"endpoint_url\": \"http://ENDPOINT_URL\",\n",
    "        \"region_name\": 'us-east-1'\n",
    "    },\n",
    "    \"config_kwargs\": {\"s3\": {\"signature_version\": 's3v4'}},\n",
    "}\n",
    "\n",
    "df.to_parquet(f's3://s3_destination/{filename}',\n",
    "              compression=\"gzip\",\n",
    "              storage_options=minio_storage_options,\n",
    "              engine = \"fastparquet\")\n",
    "\n",
    "\n",
    "df = dd.read_parquet(\n",
    "    f's3://s3_source/', \n",
    "    storage_options=minio_storage_options, \n",
    "    engine=\"pyarrow\"\n",
    ")\n",
    "#end::ex_s3_minio_rw"
   ]
  },
  {
   "cell_type": "code",
   "execution_count": null,
   "id": "3a057903-bd18-417a-bdfd-8cb717b62f47",
   "metadata": {},
   "outputs": [],
   "source": []
  },
  {
   "cell_type": "code",
   "execution_count": null,
   "id": "17bcd52e-4525-48dd-97af-ff91575506bd",
   "metadata": {
    "tags": []
   },
   "outputs": [],
   "source": [
    "!pip install fugue"
   ]
  },
  {
   "cell_type": "code",
   "execution_count": null,
   "id": "d18a4cea-93dd-45cc-a93a-617e2dc4c7db",
   "metadata": {},
   "outputs": [],
   "source": [
    "# ! pip install  antlr==4.10.1\n"
   ]
  },
  {
   "cell_type": "code",
   "execution_count": null,
   "id": "60786e3e-a96b-49ef-a32c-0eb5e176ea50",
   "metadata": {
    "tags": []
   },
   "outputs": [],
   "source": [
    "from fugue_notebook import setup\n",
    "try:\n",
    "    setup()\n",
    "except:\n",
    "    pass"
   ]
  },
  {
   "cell_type": "code",
   "execution_count": null,
   "id": "777df740-04e4-4bd0-96b0-4e07cb6ebe93",
   "metadata": {},
   "outputs": [],
   "source": [
    "from fugue import transform"
   ]
  },
  {
   "cell_type": "code",
   "execution_count": null,
   "id": "d50da5fe-fccd-4aac-8db4-393546f73b8e",
   "metadata": {
    "tags": []
   },
   "outputs": [],
   "source": [
    "!pip install fugue\n",
    "!pip install fugue[sql]"
   ]
  },
  {
   "cell_type": "code",
   "execution_count": null,
   "id": "3d368841-daf0-473d-b7c0-f1b44e8e312e",
   "metadata": {
    "tags": []
   },
   "outputs": [],
   "source": [
    "!pip install s3fs"
   ]
  },
  {
   "cell_type": "code",
   "execution_count": null,
   "id": "19c5e5bf-ecd2-4960-a59b-527777bbf37c",
   "metadata": {},
   "outputs": [],
   "source": [
    "!conda  install aiohttp"
   ]
  },
  {
   "cell_type": "code",
   "execution_count": null,
   "id": "2b9299da-4d36-43d0-80f6-e0496e812e1b",
   "metadata": {},
   "outputs": [],
   "source": [
    "# !conda install requests\n",
    "# !pip install antlr4-python3-runtime\n",
    "# !pip install antlr4-python3-runtime==4.10"
   ]
  },
  {
   "cell_type": "code",
   "execution_count": null,
   "id": "39bfc078-2b89-4283-94d6-84fc90f44e6b",
   "metadata": {},
   "outputs": [],
   "source": [
    "# !pip install fugue\n",
    "# !pip install fugue[sql]\n",
    "# !pip install s3fs\n",
    "# !conda  install aiohttp"
   ]
  },
  {
   "cell_type": "code",
   "execution_count": null,
   "id": "171f6b52-2b99-467e-905d-b918a54e791a",
   "metadata": {},
   "outputs": [],
   "source": [
    "# import antlr4\n",
    "from fugue import transform"
   ]
  },
  {
   "cell_type": "code",
   "execution_count": 1,
   "id": "e50f4262-b033-449c-bb5f-47debabe4743",
   "metadata": {
    "tags": []
   },
   "outputs": [
    {
     "data": {
      "application/javascript": [
       "\n",
       "require([\"codemirror/lib/codemirror\"]);\n",
       "function set(str) {\n",
       "    var obj = {}, words = str.split(\" \");\n",
       "    for (var i = 0; i < words.length; ++i) obj[words[i]] = true;\n",
       "    return obj;\n",
       "  }\n",
       "var fugue_keywords = \"fill hash rand even presort persist broadcast params process output outtransform rowcount concurrency prepartition zip print title save append parquet csv json single checkpoint weak strong deterministic yield connect sample seed take sub callback dataframe file\";\n",
       "CodeMirror.defineMIME(\"text/x-fsql\", {\n",
       "    name: \"sql\",\n",
       "    keywords: set(fugue_keywords + \" add after all alter analyze and anti archive array as asc at between bucket buckets by cache cascade case cast change clear cluster clustered codegen collection column columns comment commit compact compactions compute concatenate cost create cross cube current current_date current_timestamp database databases data dbproperties defined delete delimited deny desc describe dfs directories distinct distribute drop else end escaped except exchange exists explain export extended external false fields fileformat first following for format formatted from full function functions global grant group grouping having if ignore import in index indexes inner inpath inputformat insert intersect interval into is items join keys last lateral lazy left like limit lines list load local location lock locks logical macro map minus msck natural no not null nulls of on optimize option options or order out outer outputformat over overwrite partition partitioned partitions percent preceding principals purge range recordreader recordwriter recover reduce refresh regexp rename repair replace reset restrict revoke right rlike role roles rollback rollup row rows schema schemas select semi separated serde serdeproperties set sets show skewed sort sorted start statistics stored stratify struct table tables tablesample tblproperties temp temporary terminated then to touch transaction transactions transform true truncate unarchive unbounded uncache union unlock unset use using values view when where window with\"),\n",
       "    builtin: set(\"date datetime tinyint smallint int bigint boolean float double string binary timestamp decimal array map struct uniontype delimited serde sequencefile textfile rcfile inputformat outputformat\"),\n",
       "    atoms: set(\"false true null\"),\n",
       "    operatorChars: /^[*\\/+\\-%<>!=~&|^]/,\n",
       "    dateSQL: set(\"time\"),\n",
       "    support: set(\"ODBCdotTable doubleQuote zerolessFloat\")\n",
       "  });\n",
       "\n",
       "CodeMirror.modeInfo.push( {\n",
       "            name: \"Fugue SQL\",\n",
       "            mime: \"text/x-fsql\",\n",
       "            mode: \"sql\"\n",
       "          } );\n",
       "\n",
       "require(['notebook/js/codecell'], function(codecell) {\n",
       "    codecell.CodeCell.options_default.highlight_modes['magic_text/x-fsql'] = {'reg':[/%%fsql/]} ;\n",
       "    Jupyter.notebook.events.on('kernel_ready.Kernel', function(){\n",
       "    Jupyter.notebook.get_cells().map(function(cell){\n",
       "        if (cell.cell_type == 'code'){ cell.auto_highlight(); } }) ;\n",
       "    });\n",
       "  });\n"
      ],
      "text/plain": [
       "<IPython.core.display.Javascript object>"
      ]
     },
     "metadata": {},
     "output_type": "display_data"
    }
   ],
   "source": [
    "from fugue_notebook import setup\n",
    "setup()"
   ]
  },
  {
   "cell_type": "code",
   "execution_count": null,
   "id": "d7a1809a-2427-43bd-8729-ed47571d3842",
   "metadata": {},
   "outputs": [],
   "source": []
  },
  {
   "cell_type": "code",
   "execution_count": 2,
   "id": "d1599293-36a5-4cdb-a700-07369994f293",
   "metadata": {},
   "outputs": [
    {
     "data": {
      "application/javascript": [
       "\n",
       "require([\"codemirror/lib/codemirror\"]);\n",
       "function set(str) {\n",
       "    var obj = {}, words = str.split(\" \");\n",
       "    for (var i = 0; i < words.length; ++i) obj[words[i]] = true;\n",
       "    return obj;\n",
       "  }\n",
       "var fugue_keywords = \"fill hash rand even presort persist broadcast params process output outtransform rowcount concurrency prepartition zip print title save append parquet csv json single checkpoint weak strong deterministic yield connect sample seed take sub callback dataframe file\";\n",
       "CodeMirror.defineMIME(\"text/x-fsql\", {\n",
       "    name: \"sql\",\n",
       "    keywords: set(fugue_keywords + \" add after all alter analyze and anti archive array as asc at between bucket buckets by cache cascade case cast change clear cluster clustered codegen collection column columns comment commit compact compactions compute concatenate cost create cross cube current current_date current_timestamp database databases data dbproperties defined delete delimited deny desc describe dfs directories distinct distribute drop else end escaped except exchange exists explain export extended external false fields fileformat first following for format formatted from full function functions global grant group grouping having if ignore import in index indexes inner inpath inputformat insert intersect interval into is items join keys last lateral lazy left like limit lines list load local location lock locks logical macro map minus msck natural no not null nulls of on optimize option options or order out outer outputformat over overwrite partition partitioned partitions percent preceding principals purge range recordreader recordwriter recover reduce refresh regexp rename repair replace reset restrict revoke right rlike role roles rollback rollup row rows schema schemas select semi separated serde serdeproperties set sets show skewed sort sorted start statistics stored stratify struct table tables tablesample tblproperties temp temporary terminated then to touch transaction transactions transform true truncate unarchive unbounded uncache union unlock unset use using values view when where window with\"),\n",
       "    builtin: set(\"date datetime tinyint smallint int bigint boolean float double string binary timestamp decimal array map struct uniontype delimited serde sequencefile textfile rcfile inputformat outputformat\"),\n",
       "    atoms: set(\"false true null\"),\n",
       "    operatorChars: /^[*\\/+\\-%<>!=~&|^]/,\n",
       "    dateSQL: set(\"time\"),\n",
       "    support: set(\"ODBCdotTable doubleQuote zerolessFloat\")\n",
       "  });\n",
       "\n",
       "CodeMirror.modeInfo.push( {\n",
       "            name: \"Fugue SQL\",\n",
       "            mime: \"text/x-fsql\",\n",
       "            mode: \"sql\"\n",
       "          } );\n",
       "\n",
       "require(['notebook/js/codecell'], function(codecell) {\n",
       "    codecell.CodeCell.options_default.highlight_modes['magic_text/x-fsql'] = {'reg':[/%%fsql/]} ;\n",
       "    Jupyter.notebook.events.on('kernel_ready.Kernel', function(){\n",
       "    Jupyter.notebook.get_cells().map(function(cell){\n",
       "        if (cell.cell_type == 'code'){ cell.auto_highlight(); } }) ;\n",
       "    });\n",
       "  });\n"
      ],
      "text/plain": [
       "<IPython.core.display.Javascript object>"
      ]
     },
     "metadata": {},
     "output_type": "display_data"
    }
   ],
   "source": [
    "setup()"
   ]
  },
  {
   "cell_type": "code",
   "execution_count": null,
   "id": "1dce17e2-7916-45a1-b968-655d4ad29060",
   "metadata": {},
   "outputs": [],
   "source": []
  },
  {
   "cell_type": "code",
   "execution_count": 4,
   "id": "5f151cb0-952d-4025-b348-c299b0e36195",
   "metadata": {},
   "outputs": [],
   "source": [
    "import dask.dataframe as dd"
   ]
  },
  {
   "cell_type": "code",
   "execution_count": 5,
   "id": "b998c747-8163-4264-af6c-46d8595d85f0",
   "metadata": {},
   "outputs": [],
   "source": [
    "url = 'https://d37ci6vzurychx.cloudfront.net/trip-data/yellow_tripdata_2018-01.parquet'\n",
    "df = dd.read_parquet(url)"
   ]
  },
  {
   "cell_type": "code",
   "execution_count": null,
   "id": "7b168f89-1019-41de-8266-8f5261d4f65c",
   "metadata": {},
   "outputs": [],
   "source": [
    "#tag::ex_fugue_SQL[]\n",
    "from fugue_notebook import setup\n",
    "\n",
    "setup(is_lab=True)\n",
    "\n",
    "%%fsql dask\n",
    "tempdf = SELECT VendorID, AVG(total_amount) AS average_fare FROM df GROUP BY VendorID\n",
    "\n",
    "SELECT *\n",
    "FROM tempdf\n",
    "ORDER BY average_fare DESC\n",
    "LIMIT 5\n",
    "PRINT\n",
    "#end::ex_fugue_SQL"
   ]
  },
  {
   "cell_type": "code",
   "execution_count": null,
   "id": "b71ab91b-cb1a-49c4-894f-c15cb6ad19cb",
   "metadata": {},
   "outputs": [],
   "source": []
  },
  {
   "cell_type": "code",
   "execution_count": 8,
   "id": "748743e1-a049-47a0-8fac-2e824e102c81",
   "metadata": {},
   "outputs": [],
   "source": [
    "setup(is_lab=True)\n"
   ]
  },
  {
   "cell_type": "code",
   "execution_count": 14,
   "id": "f91c74e3-2f52-4641-aa02-fffd2bd7091b",
   "metadata": {},
   "outputs": [
    {
     "name": "stdout",
     "output_type": "stream",
     "text": [
      "ANTLR runtime and generated code versions disagree: 4.11.1!=4.10.1\n",
      "ANTLR runtime and generated code versions disagree: 4.11.1!=4.10.1\n",
      "ANTLR runtime and generated code versions disagree: 4.11.1!=4.10.1\n",
      "ANTLR runtime and generated code versions disagree: 4.11.1!=4.10.1\n"
     ]
    },
    {
     "data": {
      "text/html": [
       "<div>\n",
       "<style scoped>\n",
       "    .dataframe tbody tr th:only-of-type {\n",
       "        vertical-align: middle;\n",
       "    }\n",
       "\n",
       "    .dataframe tbody tr th {\n",
       "        vertical-align: top;\n",
       "    }\n",
       "\n",
       "    .dataframe thead th {\n",
       "        text-align: right;\n",
       "    }\n",
       "</style>\n",
       "<table border=\"1\" class=\"dataframe\">\n",
       "  <thead>\n",
       "    <tr style=\"text-align: right;\">\n",
       "      <th></th>\n",
       "      <th>VendorID</th>\n",
       "      <th>average_fare</th>\n",
       "    </tr>\n",
       "  </thead>\n",
       "  <tbody>\n",
       "    <tr>\n",
       "      <th>0</th>\n",
       "      <td>1</td>\n",
       "      <td>15.127384</td>\n",
       "    </tr>\n",
       "    <tr>\n",
       "      <th>1</th>\n",
       "      <td>2</td>\n",
       "      <td>15.775723</td>\n",
       "    </tr>\n",
       "  </tbody>\n",
       "</table>\n",
       "</div>"
      ],
      "text/plain": [
       "   VendorID  average_fare\n",
       "0         1     15.127384\n",
       "1         2     15.775723"
      ]
     },
     "metadata": {},
     "output_type": "display_data"
    },
    {
     "data": {
      "text/html": [
       "<small>schema: VendorID:long,average_fare:double</small>"
      ],
      "text/plain": [
       "<IPython.core.display.HTML object>"
      ]
     },
     "metadata": {},
     "output_type": "display_data"
    }
   ],
   "source": [
    "%%fsql dask\n",
    "tempdf = SELECT VendorID, AVG(total_amount) AS average_fare FROM df GROUP BY VendorID\n",
    "\n",
    "SELECT *\n",
    "FROM tempdf\n",
    "ORDER BY average_fare DESC\n",
    "LIMIT 5\n",
    "PRINT"
   ]
  },
  {
   "cell_type": "code",
   "execution_count": null,
   "id": "52376215-6247-499d-b604-55c3235f12ff",
   "metadata": {},
   "outputs": [],
   "source": []
  }
 ],
 "metadata": {
  "kernelspec": {
   "display_name": "Python [conda env:mika-dask]",
   "language": "python",
   "name": "conda-env-mika-dask-py"
  },
  "language_info": {
   "codemirror_mode": {
    "name": "ipython",
    "version": 3
   },
   "file_extension": ".py",
   "mimetype": "text/x-python",
   "name": "python",
   "nbconvert_exporter": "python",
   "pygments_lexer": "ipython3",
   "version": "3.10.6"
  }
 },
 "nbformat": 4,
 "nbformat_minor": 5
}
