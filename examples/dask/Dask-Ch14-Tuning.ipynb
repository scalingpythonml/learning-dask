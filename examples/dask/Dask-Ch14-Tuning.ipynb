{
 "cells": [
  {
   "cell_type": "code",
   "execution_count": 1,
   "id": "387b8f83-88ae-49f9-9692-43837d7c324d",
   "metadata": {},
   "outputs": [],
   "source": [
    "from dask_jobqueue import SLURMCluster\n",
    "from dask.distributed import Client"
   ]
  },
  {
   "cell_type": "code",
   "execution_count": 2,
   "id": "4afb695c-ca55-483d-87b7-f206f038070c",
   "metadata": {
    "collapsed": true,
    "jupyter": {
     "outputs_hidden": true
    },
    "tags": []
   },
   "outputs": [],
   "source": [
    "#tag::ex_deploy_SLURM_by_hand[]\n",
    "from dask_jobqueue import SLURMCluster\n",
    "from dask.distributed import Client\n",
    "\n",
    "cluster = SLURMCluster(\n",
    "    n_workers = 4,\n",
    "    queue='regular',\n",
    "    account=account_name,\n",
    "    job_directives_skip=['--mem', 'another-string'],\n",
    "    job_script_prologue = ['/your_path/pre_run_script.sh', 'source venv/bin/activate'],\n",
    "    cores=2,\n",
    "    memory=\"25 GB\",\n",
    "    walltime='04:00:00',\n",
    "    interface='ib0'\n",
    ")\n",
    "cluster.scale(10)\n",
    "client = client(cluster)\n",
    "#end::ex_deploy_SLURM_by_hand"
   ]
  },
  {
   "cell_type": "code",
   "execution_count": null,
   "id": "632d98e5-b531-49ba-b093-ceae295f1704",
   "metadata": {},
   "outputs": [],
   "source": []
  },
  {
   "cell_type": "code",
   "execution_count": null,
   "id": "8d7c3ab6-f58e-40ba-9782-a5c883f9c787",
   "metadata": {},
   "outputs": [],
   "source": [
    "#tag::ex_monitor_distributed_threads[]\n",
    "import threading, sys, time\n",
    "\n",
    "main_thread = threading.get_ident()\n",
    "\n",
    "def print_frame(frame, event):\n",
    "    print(frame, event)\n",
    "    return print_frame\n",
    "\n",
    "current_frame = sys._getframe().f_trace = print_frame\n",
    "\n",
    "def print_frame():\n",
    "    frame = sys._current_frames()[main_thread]\n",
    "    print frame\n",
    "    \n",
    "def print_worker_config():\n",
    "    return dask.config.get(\"distributed.worker.use-file-locking\")\n",
    "#end::ex_monitor_distributed_threads"
   ]
  },
  {
   "cell_type": "code",
   "execution_count": null,
   "id": "3720ccc6-e8c0-44c0-8c83-da99870a8c8d",
   "metadata": {},
   "outputs": [],
   "source": []
  },
  {
   "cell_type": "code",
   "execution_count": 64,
   "id": "87cea694-20db-48e1-a047-caca0ae9eca8",
   "metadata": {
    "collapsed": true,
    "jupyter": {
     "outputs_hidden": true
    },
    "tags": []
   },
   "outputs": [],
   "source": [
    "from dask.distributed import Client\n",
    "from dask.distributed import LocalCluster\n",
    "cluster = LocalCluster(n_workers=10) \n",
    "client = Client(cluster)\n",
    "client\n"
   ]
  },
  {
   "cell_type": "code",
   "execution_count": 65,
   "id": "2d884e7d-02d7-4410-97f6-3f8796ed3ef0",
   "metadata": {},
   "outputs": [],
   "source": [
    "import dask.array as da\n",
    "import numpy as np"
   ]
  },
  {
   "cell_type": "code",
   "execution_count": null,
   "id": "cd89fdf4-72cf-42b8-bc5b-f12f5aa3f0af",
   "metadata": {},
   "outputs": [],
   "source": []
  },
  {
   "cell_type": "code",
   "execution_count": null,
   "id": "d88ca80a-16a0-4459-89d0-2ce7b4389839",
   "metadata": {},
   "outputs": [],
   "source": [
    "#tag::ex_generate_performance_report[]\n",
    "from dask.distributed import performance_report\n",
    "\n",
    "with performance_report(filename=\"computation_report.html\"):\n",
    "    gnarl = da.random.beta(1,2, size=(10000, 10000, 10), chunks=(1000,1000,5))\n",
    "    x = da.random.random((10000, 10000, 10), chunks=(1000, 1000, 5))\n",
    "    y = (da.arccos(x)*gnarl).sum(axis=(1,2))\n",
    "    y.compute()\n",
    "#end::ex_generate_performance_report"
   ]
  },
  {
   "cell_type": "code",
   "execution_count": null,
   "id": "7bf7a5c6-a891-4eb1-b2d8-0f638a25144e",
   "metadata": {},
   "outputs": [],
   "source": [
    "#tag::ex_get_task_stream[]\n",
    "from dask.distributed import get_task_stream\n",
    "\n",
    "with get_task_stream() as ts:\n",
    "    gnarl = da.random.beta(1,2, size=(100, 100, 10), chunks=(100,100,5))\n",
    "    x = da.random.random((100, 100, 10), chunks=(100, 100, 5))\n",
    "    y = (da.arccos(x)*gnarl).sum(axis=(1,2))\n",
    "    y.compute()\n",
    "history = ts.data\n",
    "\n",
    "#display the task stream data as dataframe\n",
    "history_frame = pd.DataFrame(history, columns = ['worker','status','nbytes', 'thread', 'type', 'typename', 'metadata', 'startstops', 'key'])\n",
    "\n",
    "#plot task stream\n",
    "ts.figure\n",
    "#end::ex_get_task_stream"
   ]
  },
  {
   "cell_type": "code",
   "execution_count": null,
   "id": "54623692-b31e-48b2-8e67-cb1d6901701b",
   "metadata": {},
   "outputs": [],
   "source": []
  },
  {
   "cell_type": "code",
   "execution_count": null,
   "id": "28fdd36d-0d29-4acf-8a82-42f467ef4121",
   "metadata": {},
   "outputs": [],
   "source": [
    "#tag::ex_memory_sampler[]\n",
    "from distributed.diagnostics import MemorySampler\n",
    "from dask_kubernetes import KubeCluster\n",
    "from distributed import Client\n",
    "\n",
    "cluster = KubeCluster()\n",
    "client = Client(cluster)\n",
    "\n",
    "ms = MemorySampler()\n",
    "\n",
    "#some gnarly compute\n",
    "gnarl = da.random.beta(1,2, size=(100, 100, 10), chunks=(100,100,5))\n",
    "x = da.random.random((100, 100, 10), chunks=(100, 100, 5))\n",
    "y = (da.arccos(x)*gnarl).sum(axis=(1,2))\n",
    "    \n",
    "with ms.sample(\"memory without adaptive clusters\"):\n",
    "    y.compute()\n",
    "\n",
    "#enable adaptive scaling\n",
    "cluster.adapt(minimum=0, maximum=100) \n",
    "\n",
    "with ms.sample(\"memory with adaptive clusters\"):\n",
    "    y.compute()\n",
    "\n",
    "#plot the differences\n",
    "ms.plot(align=True, grid=True)\n",
    "\n",
    "#end::ex_memory_sampler"
   ]
  },
  {
   "cell_type": "code",
   "execution_count": null,
   "id": "1f5d052c-6132-4109-8833-08d241eae979",
   "metadata": {},
   "outputs": [],
   "source": []
  },
  {
   "cell_type": "code",
   "execution_count": null,
   "id": "4cf1356d-6bd6-4987-bb6d-fed8697663f7",
   "metadata": {},
   "outputs": [],
   "source": []
  },
  {
   "cell_type": "code",
   "execution_count": null,
   "id": "37795116-8c26-4a74-bbe7-39a2a38b5980",
   "metadata": {},
   "outputs": [],
   "source": [
    "cluster.close()"
   ]
  },
  {
   "cell_type": "code",
   "execution_count": null,
   "id": "9be112ca-ecba-459c-8d23-45d350ad127c",
   "metadata": {
    "collapsed": true,
    "jupyter": {
     "outputs_hidden": true
    },
    "tags": []
   },
   "outputs": [],
   "source": [
    "client.close()"
   ]
  }
 ],
 "metadata": {
  "kernelspec": {
   "display_name": "Python [conda env:mika-dask]",
   "language": "python",
   "name": "conda-env-mika-dask-py"
  },
  "language_info": {
   "codemirror_mode": {
    "name": "ipython",
    "version": 3
   },
   "file_extension": ".py",
   "mimetype": "text/x-python",
   "name": "python",
   "nbconvert_exporter": "python",
   "pygments_lexer": "ipython3",
   "version": "3.10.6"
  }
 },
 "nbformat": 4,
 "nbformat_minor": 5
}
