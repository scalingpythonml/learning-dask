{
 "cells": [
  {
   "cell_type": "code",
   "execution_count": null,
   "id": "05d6e352-b2a4-44a8-ab3d-984f5f70faab",
   "metadata": {},
   "outputs": [],
   "source": [
    "import dask\n",
    "import dask.bag as bag\n",
    "import dask.dataframe as dd\n",
    "from distributed.client import futures_of\n",
    "import pandas\n",
    "from io import StringIO\n",
    "import numpy as np"
   ]
  },
  {
   "cell_type": "code",
   "execution_count": null,
   "id": "fc01d4ce-885d-4dea-8eef-6a5137425072",
   "metadata": {},
   "outputs": [],
   "source": []
  },
  {
   "cell_type": "code",
   "execution_count": null,
   "id": "3b387231-6843-4faf-b7c6-9bf5177c490e",
   "metadata": {},
   "outputs": [],
   "source": [
    "urls = [\"https://gender-pay-gap.service.gov.uk/viewing/download-data/2021\",\n",
    "        \"https://www.pigscanfly.ca\"]"
   ]
  },
  {
   "cell_type": "code",
   "execution_count": null,
   "id": "c8869acf-ad6e-4ec7-88ed-c8957796036c",
   "metadata": {},
   "outputs": [],
   "source": [
    "#tag::handle[]\n",
    "# Handling some potentially bad data, this assume line-by-line \n",
    "raw_chunks = bag.read_text(urls, files_per_partition = 1, linedelimiter=\"FAAAAAAAAAAAAAAAARTS\")\n",
    "def maybe_load_data(data):\n",
    "    try:\n",
    "        # Put your processing code here\n",
    "        return (pandas.read_csv(StringIO(data)), None)\n",
    "    except Exception as e:\n",
    "        return (None, (e, data))\n",
    "data = raw_chunks.map(maybe_load_data)\n",
    "data.persist()\n",
    "bad_data = data.filter(lambda x: x[0] is None)\n",
    "good_data = data.filter(lambda x: x[1] is None)\n",
    "#end::handle[]"
   ]
  },
  {
   "cell_type": "code",
   "execution_count": null,
   "id": "2e368126-572e-4d95-8b39-37e9b3959c49",
   "metadata": {},
   "outputs": [],
   "source": [
    "dask.compute(bad_data)"
   ]
  },
  {
   "cell_type": "code",
   "execution_count": null,
   "id": "8036f75d-adf0-41c9-912f-644f9762dbde",
   "metadata": {},
   "outputs": [],
   "source": []
  }
 ],
 "metadata": {
  "kernelspec": {
   "display_name": "Python 3 (ipykernel)",
   "language": "python",
   "name": "python3"
  },
  "language_info": {
   "codemirror_mode": {
    "name": "ipython",
    "version": 3
   },
   "file_extension": ".py",
   "mimetype": "text/x-python",
   "name": "python",
   "nbconvert_exporter": "python",
   "pygments_lexer": "ipython3",
   "version": "3.8.15"
  }
 },
 "nbformat": 4,
 "nbformat_minor": 5
}
