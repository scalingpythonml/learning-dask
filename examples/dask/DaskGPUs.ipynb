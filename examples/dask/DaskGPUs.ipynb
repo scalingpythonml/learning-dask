{
 "cells": [
  {
   "cell_type": "code",
   "execution_count": null,
   "id": "7f50d60c",
   "metadata": {},
   "outputs": [],
   "source": [
    "# Dask local GPU\n",
    "import dask"
   ]
  },
  {
   "cell_type": "code",
   "execution_count": null,
   "id": "c1efa04e",
   "metadata": {},
   "outputs": [],
   "source": [
    "#tag::dask_local_gpu[]\n",
    "from dask_cuda import LocalCUDACluster\n",
    "from dask.distributed import Client\n",
    "#NOTE: The resources= flag is important, by default the LocalCUDACluster *does not* label any resources which can make\n",
    "# porting your code to a cluster where some workers have GPUs and some not painful.\n",
    "cluster = LocalCUDACluster(resources={\"GPU\": 1})\n",
    "client = Client(cluster)\n",
    "#end::dask_local_gpu[]"
   ]
  },
  {
   "cell_type": "code",
   "execution_count": null,
   "id": "e5ba7615-e865-442a-9233-f3476d9196c0",
   "metadata": {},
   "outputs": [],
   "source": [
    "cluster"
   ]
  },
  {
   "cell_type": "code",
   "execution_count": null,
   "id": "35641ad3-393b-4597-a9ba-4db5b3715a6f",
   "metadata": {},
   "outputs": [],
   "source": [
    "def how_many_gpus(x):\n",
    "    import torch\n",
    "    return torch.cuda.device_count(); "
   ]
  },
  {
   "cell_type": "code",
   "execution_count": null,
   "id": "422a7dac-c612-4cd0-978d-a3f86a7edd40",
   "metadata": {},
   "outputs": [],
   "source": [
    "#tag::ex_submit_gpu[]\n",
    "future = client.submit(how_many_gpus, 1, resources={'GPU': 1})\n",
    "#end::ex_submit_gpu[]"
   ]
  },
  {
   "cell_type": "code",
   "execution_count": null,
   "id": "a5cd35cd-bb3b-4fdb-ab6f-8a97864e4bca",
   "metadata": {},
   "outputs": [],
   "source": [
    "client.gather(future)"
   ]
  },
  {
   "cell_type": "code",
   "execution_count": null,
   "id": "303c7e45-b5a6-4c40-800e-b8bfa02f1380",
   "metadata": {},
   "outputs": [],
   "source": [
    "#tag::ex_annotate_gpu[]\n",
    "with dask.annotate(resources={'GPU': 1}):\n",
    "    future = client.submit(how_many_gpus, 1)\n",
    "#end::ex_annotate_gpu[]"
   ]
  },
  {
   "cell_type": "code",
   "execution_count": null,
   "id": "f6e14e62-1c97-4650-9b95-9d9e479534d4",
   "metadata": {},
   "outputs": [],
   "source": [
    "import numpy as np\n",
    "from numba import jit, guvectorize\n",
    "import dask"
   ]
  },
  {
   "cell_type": "code",
   "execution_count": null,
   "id": "7650b1f6-3ba9-4160-9bff-be7b7a0349c5",
   "metadata": {},
   "outputs": [],
   "source": [
    "#tag::ex_dask_submit_numba_incorrect[]\n",
    "# Works in local mode, but not distributed\n",
    "@dask.delayed\n",
    "@guvectorize(['void(float64[:], intp[:], float64[:])'],\n",
    "             '(n),()->(n)')\n",
    "def delayed_move_mean(a, window_arr, out):\n",
    "    window_width = window_arr[0]\n",
    "    asum = 0.0\n",
    "    count = 0\n",
    "    for i in range(window_width):\n",
    "        asum += a[i]\n",
    "        count += 1\n",
    "        out[i] = asum / count\n",
    "    for i in range(window_width, len(a)):\n",
    "        asum += a[i] - a[i - window_width]\n",
    "        out[i] = asum / count\n",
    "\n",
    "arr = np.arange(20, dtype=np.float64).reshape(2, 10)\n",
    "print(arr)\n",
    "print(dask.compute(delayed_move_mean(arr, 3)))\n",
    "#end::ex_dask_submit_numba_incorrect[]"
   ]
  },
  {
   "cell_type": "code",
   "execution_count": null,
   "id": "b0fe12c7-f97a-492a-ab82-c329973a15d7",
   "metadata": {},
   "outputs": [],
   "source": [
    "#tag::ex_dask_submit_numba_correct[]\n",
    "@guvectorize(['void(float64[:], intp[:], float64[:])'],\n",
    "             '(n),()->(n)')\n",
    "def move_mean(a, window_arr, out):\n",
    "    window_width = window_arr[0]\n",
    "    asum = 0.0\n",
    "    count = 0\n",
    "    for i in range(window_width):\n",
    "        asum += a[i]\n",
    "        count += 1\n",
    "        out[i] = asum / count\n",
    "    for i in range(window_width, len(a)):\n",
    "        asum += a[i] - a[i - window_width]\n",
    "        out[i] = asum / count\n",
    "\n",
    "arr = np.arange(20, dtype=np.float64).reshape(2, 10)\n",
    "print(arr)\n",
    "print(move_mean(arr, 3))\n",
    "\n",
    "def wrapped_move_mean(*args):\n",
    "    return move_mean(*args)"
   ]
  },
  {
   "cell_type": "code",
   "execution_count": null,
   "id": "76eb3ebc-469c-4f99-be56-6239c9d650a1",
   "metadata": {},
   "outputs": [],
   "source": [
    "a = dask.delayed(wrapped_move_mean)(arr, 3)\n",
    "#end::ex_dask_submit_numba_correct[]"
   ]
  },
  {
   "cell_type": "code",
   "execution_count": null,
   "id": "0c26f668-4e9d-4edc-ad72-2382da43d200",
   "metadata": {},
   "outputs": [],
   "source": [
    "a"
   ]
  },
  {
   "cell_type": "code",
   "execution_count": null,
   "id": "9945630b-43c3-4d3c-9adb-78ed5b3a2d0e",
   "metadata": {},
   "outputs": [],
   "source": [
    "dask.compute(a)"
   ]
  },
  {
   "cell_type": "code",
   "execution_count": null,
   "id": "dd6cd4db-276c-472b-8355-298d865a7a95",
   "metadata": {},
   "outputs": [],
   "source": [
    "from blazingsql import BlazingContext\n",
    "import cudf\n",
    "import numpy as np\n",
    "bc = BlazingContext(dask_client=client)"
   ]
  },
  {
   "cell_type": "code",
   "execution_count": null,
   "id": "216c63f4-a239-495e-a78b-a1f63d092c47",
   "metadata": {},
   "outputs": [],
   "source": [
    "df = cudf.DataFrame({chr(x): cudf.Series(np.arange(4172, dtype=\"float64\")) for x in range(65, 66)})\n",
    "\n",
    "import dask_cudf\n",
    "\n",
    "ddf = dask_cudf.from_cudf(df, npartitions=2)"
   ]
  },
  {
   "cell_type": "code",
   "execution_count": null,
   "id": "61d6129c-4479-408e-a470-54e958df6610",
   "metadata": {},
   "outputs": [],
   "source": [
    "# Cpu fall back\n",
    "import time"
   ]
  },
  {
   "cell_type": "code",
   "execution_count": null,
   "id": "c610ce5f-0136-43a3-91a8-d0b7f9d084cc",
   "metadata": {},
   "outputs": [],
   "source": [
    "from dask.distributed import Client, LocalCluster\n",
    "cluster = LocalCluster(resources={})\n",
    "client = Client(cluster)"
   ]
  },
  {
   "cell_type": "code",
   "execution_count": null,
   "id": "e411a52e-cfd2-4568-a9df-018a89828068",
   "metadata": {},
   "outputs": [],
   "source": [
    "cluster.adapt(minimum=1, maximum=10)"
   ]
  },
  {
   "cell_type": "code",
   "execution_count": null,
   "id": "0ce49e08-8eb0-4d37-8b65-e9eff07f0bd6",
   "metadata": {},
   "outputs": [],
   "source": [
    "def noop(x):\n",
    "    return True\n",
    "test_no_gpu_future = client.submit(noop, 1)\n",
    "test_gpu_future = client.submit(noop, 1, resources={'GPU': 2, 'MEMORY': 70e100})"
   ]
  },
  {
   "cell_type": "code",
   "execution_count": null,
   "id": "f09d64e7-205f-4e1f-bed2-381390360742",
   "metadata": {},
   "outputs": [],
   "source": [
    "# First make sure that the normal task has finished\n",
    "client.gather(test_no_gpu_future)\n",
    "# We might take some time for the task to finish\n",
    "time.sleep(1)\n",
    "if "
   ]
  },
  {
   "cell_type": "code",
   "execution_count": null,
   "id": "4bd8fdb0-54f0-4458-8263-7d60bfc66504",
   "metadata": {},
   "outputs": [],
   "source": [
    "client.gather(test_no_gpu_future)"
   ]
  },
  {
   "cell_type": "code",
   "execution_count": null,
   "id": "5b93f076-0739-45fd-aad3-c17b8f5d1e2c",
   "metadata": {},
   "outputs": [],
   "source": [
    "test_gpu_future"
   ]
  },
  {
   "cell_type": "code",
   "execution_count": null,
   "id": "15af48a4-9cc1-4e1b-87d6-cfaceb0e4b9c",
   "metadata": {},
   "outputs": [],
   "source": [
    "test_no_gpu_future"
   ]
  },
  {
   "cell_type": "code",
   "execution_count": null,
   "id": "b376e18e-0c3a-4053-b886-e3090389ec14",
   "metadata": {},
   "outputs": [],
   "source": [
    "cluster"
   ]
  },
  {
   "cell_type": "code",
   "execution_count": null,
   "id": "277c7c08-229e-4924-8f63-8765f5d983d0",
   "metadata": {},
   "outputs": [],
   "source": []
  }
 ],
 "metadata": {
  "kernelspec": {
   "display_name": "Python 3 (ipykernel)",
   "language": "python",
   "name": "python3"
  },
  "language_info": {
   "codemirror_mode": {
    "name": "ipython",
    "version": 3
   },
   "file_extension": ".py",
   "mimetype": "text/x-python",
   "name": "python",
   "nbconvert_exporter": "python",
   "pygments_lexer": "ipython3",
   "version": "3.8.5"
  }
 },
 "nbformat": 4,
 "nbformat_minor": 5
}
