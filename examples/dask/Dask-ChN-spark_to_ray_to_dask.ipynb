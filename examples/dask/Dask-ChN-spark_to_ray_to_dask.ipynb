{
 "cells": [
  {
   "cell_type": "code",
   "execution_count": null,
   "id": "71577fd9",
   "metadata": {},
   "outputs": [],
   "source": [
    "import os\n",
    "import sys\n",
    "\n",
    "os.environ['PYSPARK_PYTHON'] = sys.executable\n",
    "os.environ['PYSPARK_DRIVER_PYTHON'] = sys.executable"
   ]
  },
  {
   "cell_type": "code",
   "execution_count": null,
   "id": "859eb96e",
   "metadata": {},
   "outputs": [],
   "source": [
    "from pyspark.sql.session import SparkSession\n",
    "from pyspark.sql import SQLContext\n",
    "\n"
   ]
  },
  {
   "cell_type": "code",
   "execution_count": null,
   "id": "bb78daeb",
   "metadata": {
    "scrolled": true
   },
   "outputs": [],
   "source": [
    "!java -version"
   ]
  },
  {
   "cell_type": "code",
   "execution_count": null,
   "id": "c86f4ff0",
   "metadata": {},
   "outputs": [],
   "source": [
    "import pyspark\n",
    "\n",
    "# number_cores = 1\n",
    "# memory_gb = 8\n",
    "# conf = (\n",
    "#     pyspark.SparkConf()\n",
    "# #         .master('spark://xxx.xxx.xx.xx:7077') \\\n",
    "#         .setMaster('local[{}]'.format(number_cores)) \\\n",
    "#         .set('spark.driver.memory', '{}g'.format(memory_gb))        \n",
    "# )\n",
    "# sc = pyspark.SparkContext(conf=conf)\n",
    "# # sqlContext = SQLContext(sc)\n",
    "# sqlContext = SQLContext(sc)\n",
    "# #http://localhost:4040/jobs/"
   ]
  },
  {
   "cell_type": "code",
   "execution_count": null,
   "id": "a3678ea7",
   "metadata": {
    "scrolled": true
   },
   "outputs": [],
   "source": []
  },
  {
   "cell_type": "code",
   "execution_count": null,
   "id": "67e7eded",
   "metadata": {},
   "outputs": [],
   "source": [
    "import raydp\n",
    "import ray \n",
    "\n",
    "ray.init()\n",
    "spark = raydp.init_spark(\n",
    "  app_name = \"raydp_spark\",\n",
    "  num_executors = 1,\n",
    "  executor_cores = 1,\n",
    "  executor_memory = \"4GB\"\n",
    ")"
   ]
  },
  {
   "cell_type": "code",
   "execution_count": null,
   "id": "528ebb36",
   "metadata": {},
   "outputs": [],
   "source": [
    "from ray.util.dask import ray_dask_get, enable_dask_on_ray, disable_dask_on_ray\n",
    "\n",
    "enable_dask_on_ray()\n"
   ]
  },
  {
   "cell_type": "code",
   "execution_count": null,
   "id": "5f34394a",
   "metadata": {},
   "outputs": [],
   "source": []
  },
  {
   "cell_type": "code",
   "execution_count": null,
   "id": "f2079d7d",
   "metadata": {},
   "outputs": [],
   "source": [
    "df = spark.createDataFrame([\"Anna\",\"Bob\",\"Sue\"], \"string\").toDF(\"firstname\")"
   ]
  },
  {
   "cell_type": "code",
   "execution_count": null,
   "id": "f22abf8b",
   "metadata": {},
   "outputs": [],
   "source": [
    "df.show()"
   ]
  },
  {
   "cell_type": "code",
   "execution_count": null,
   "id": "b145a472",
   "metadata": {},
   "outputs": [],
   "source": [
    "names = [\"Anna\", \"Bob\", \"Liam\", \"Olivia\", \"Noah\", \"Emma\", \"Oliver\", \"Ava\", \"Elijah\", \"Charlotte\"]\n",
    "class StudentRecord:\n",
    "    def __init__(self, record_id, name):\n",
    "        self.record_id = record_id\n",
    "        self.name = name\n",
    "    def __str__(self):\n",
    "        return f'StudentRecord(record_id={self.record_id},data={self.name})'\n",
    "    \n",
    "num_records = len(names)\n",
    "student_records = [StudentRecord(i, f'{names[i]}') for i in range(num_records)] \n"
   ]
  },
  {
   "cell_type": "code",
   "execution_count": null,
   "id": "91f93ba7",
   "metadata": {
    "scrolled": true
   },
   "outputs": [],
   "source": [
    "student_records"
   ]
  },
  {
   "cell_type": "code",
   "execution_count": null,
   "id": "6659a8a6",
   "metadata": {},
   "outputs": [],
   "source": [
    "df = spark.createDataFrame(student_records, ['name', 'id'])"
   ]
  },
  {
   "cell_type": "code",
   "execution_count": null,
   "id": "a69d5ca1",
   "metadata": {},
   "outputs": [],
   "source": [
    "df.show()"
   ]
  },
  {
   "cell_type": "code",
   "execution_count": null,
   "id": "35e3150d",
   "metadata": {},
   "outputs": [],
   "source": []
  },
  {
   "cell_type": "code",
   "execution_count": null,
   "id": "b16f2722",
   "metadata": {
    "scrolled": true
   },
   "outputs": [],
   "source": []
  },
  {
   "cell_type": "code",
   "execution_count": null,
   "id": "f644610e",
   "metadata": {},
   "outputs": [],
   "source": [
    "ray_dataset = ray.data.from_spark(df)"
   ]
  },
  {
   "cell_type": "code",
   "execution_count": null,
   "id": "94ced136",
   "metadata": {},
   "outputs": [],
   "source": [
    "ray_dataset.show()"
   ]
  },
  {
   "cell_type": "code",
   "execution_count": null,
   "id": "5893b1a7",
   "metadata": {},
   "outputs": [],
   "source": [
    "from ray.util.dask import ray_dask_get, enable_dask_on_ray, disable_dask_on_ray\n",
    "import dask.array as da\n",
    "import dask.dataframe as dd\n",
    "import numpy as np\n",
    "import pandas as pd\n"
   ]
  },
  {
   "cell_type": "code",
   "execution_count": null,
   "id": "5a657f1e",
   "metadata": {},
   "outputs": [],
   "source": [
    "#tag::dask_on_ray[]"
   ]
  },
  {
   "cell_type": "code",
   "execution_count": null,
   "id": "a07737ba",
   "metadata": {},
   "outputs": [],
   "source": [
    "import dask"
   ]
  },
  {
   "cell_type": "code",
   "execution_count": null,
   "id": "e76b7652",
   "metadata": {},
   "outputs": [],
   "source": [
    "enable_dask_on_ray()"
   ]
  },
  {
   "cell_type": "code",
   "execution_count": null,
   "id": "688d08a2",
   "metadata": {},
   "outputs": [],
   "source": [
    "ddf_students = ray.data.dataset.Dataset.to_dask(ray_dataset) "
   ]
  },
  {
   "cell_type": "code",
   "execution_count": null,
   "id": "f238a058",
   "metadata": {},
   "outputs": [],
   "source": [
    "ddf_students.head()"
   ]
  },
  {
   "cell_type": "code",
   "execution_count": null,
   "id": "9d8c5dae-1044-4581-990a-d6af7f2362c3",
   "metadata": {},
   "outputs": [],
   "source": [
    "disable_dask_on_ray()"
   ]
  },
  {
   "cell_type": "code",
   "execution_count": null,
   "id": "b8f0d5dc-3baa-4e61-8aff-87057ca03524",
   "metadata": {},
   "outputs": [],
   "source": [
    "#end::dask_on_ray[]"
   ]
  },
  {
   "cell_type": "code",
   "execution_count": null,
   "id": "3f266559",
   "metadata": {},
   "outputs": [],
   "source": [
    "from ray.util.dask import ray_dask_get\n"
   ]
  },
  {
   "cell_type": "code",
   "execution_count": null,
   "id": "467f8fa6",
   "metadata": {
    "scrolled": true
   },
   "outputs": [],
   "source": [
    "dask.config.get"
   ]
  },
  {
   "cell_type": "code",
   "execution_count": null,
   "id": "c6764201",
   "metadata": {},
   "outputs": [],
   "source": [
    "dsk_config_dump = dask.config.config.get('distributed')"
   ]
  },
  {
   "cell_type": "code",
   "execution_count": null,
   "id": "4458f0bf",
   "metadata": {},
   "outputs": [],
   "source": [
    "dsk_config_dump.get('dashboard').get('link')"
   ]
  },
  {
   "cell_type": "code",
   "execution_count": null,
   "id": "65461cdf",
   "metadata": {},
   "outputs": [],
   "source": []
  },
  {
   "cell_type": "code",
   "execution_count": null,
   "id": "398c2eec",
   "metadata": {},
   "outputs": [],
   "source": []
  },
  {
   "cell_type": "code",
   "execution_count": null,
   "id": "a2e43c34",
   "metadata": {},
   "outputs": [],
   "source": [
    "# cluster.scheduler.services['dashboard'].server.address"
   ]
  },
  {
   "cell_type": "code",
   "execution_count": null,
   "id": "e4af6632",
   "metadata": {},
   "outputs": [],
   "source": []
  },
  {
   "cell_type": "code",
   "execution_count": null,
   "id": "394f5b4b",
   "metadata": {},
   "outputs": [],
   "source": [
    "# larger dataset"
   ]
  },
  {
   "cell_type": "code",
   "execution_count": null,
   "id": "c9d7764e",
   "metadata": {},
   "outputs": [],
   "source": [
    "url = \"https://gender-pay-gap.service.gov.uk/viewing/download-data/2021\"\n",
    "from pyspark import SparkFiles\n"
   ]
  },
  {
   "cell_type": "code",
   "execution_count": null,
   "id": "5f1585de",
   "metadata": {},
   "outputs": [],
   "source": [
    "spark.sparkContext.addFile(url)"
   ]
  },
  {
   "cell_type": "code",
   "execution_count": null,
   "id": "392c827d",
   "metadata": {},
   "outputs": [],
   "source": []
  },
  {
   "cell_type": "code",
   "execution_count": null,
   "id": "4c164087",
   "metadata": {},
   "outputs": [],
   "source": [
    "df = spark.read.csv(\"file://\"+SparkFiles.get(\"2021\"), header=True, inferSchema= True)"
   ]
  },
  {
   "cell_type": "code",
   "execution_count": null,
   "id": "4fd62edd",
   "metadata": {
    "scrolled": true
   },
   "outputs": [],
   "source": [
    "df.show(3)"
   ]
  },
  {
   "cell_type": "code",
   "execution_count": null,
   "id": "4f434493",
   "metadata": {},
   "outputs": [],
   "source": [
    "ray_dataset = ray.data.from_spark(df)"
   ]
  },
  {
   "cell_type": "code",
   "execution_count": null,
   "id": "93dcd8d1",
   "metadata": {},
   "outputs": [],
   "source": [
    "ray_dataset.show(3)"
   ]
  },
  {
   "cell_type": "code",
   "execution_count": null,
   "id": "75d73e7f",
   "metadata": {},
   "outputs": [],
   "source": [
    "from dask.distributed import Client\n",
    "client = Client()"
   ]
  },
  {
   "cell_type": "code",
   "execution_count": null,
   "id": "5e3b2e16",
   "metadata": {},
   "outputs": [],
   "source": []
  },
  {
   "cell_type": "code",
   "execution_count": null,
   "id": "96082a62",
   "metadata": {},
   "outputs": [],
   "source": [
    "ddf_pay = ray.data.dataset.Dataset.to_dask(ray_dataset) "
   ]
  },
  {
   "cell_type": "code",
   "execution_count": null,
   "id": "06e5bbec",
   "metadata": {
    "scrolled": true
   },
   "outputs": [],
   "source": [
    "ddf_pay.compute()"
   ]
  },
  {
   "cell_type": "code",
   "execution_count": null,
   "id": "94d3dedf",
   "metadata": {},
   "outputs": [],
   "source": [
    "ddf_pay.head(3)"
   ]
  },
  {
   "cell_type": "code",
   "execution_count": null,
   "id": "7c628fb7",
   "metadata": {},
   "outputs": [],
   "source": []
  },
  {
   "cell_type": "code",
   "execution_count": null,
   "id": "e0ed22fa",
   "metadata": {},
   "outputs": [],
   "source": [
    "def fillna(df):\n",
    "    return df.fillna(value={\"PostCode\": \"UNKNOWN\"}).fillna(value=0)\n",
    "    \n",
    "new_df = ddf_pay.map_partitions(fillna)\n"
   ]
  },
  {
   "cell_type": "code",
   "execution_count": null,
   "id": "e1ae0304",
   "metadata": {
    "scrolled": true
   },
   "outputs": [],
   "source": [
    "new_df.compute()"
   ]
  },
  {
   "cell_type": "code",
   "execution_count": null,
   "id": "68b24eee",
   "metadata": {},
   "outputs": [],
   "source": [
    "# Since there could be an NA in the index clear the partition / division information\n",
    "new_df.clear_divisions()\n",
    "new_df.compute()\n",
    "narrow_df = new_df[[\"PostCode\", \"EmployerSize\", \"DiffMeanHourlyPercent\"]]"
   ]
  },
  {
   "cell_type": "code",
   "execution_count": null,
   "id": "f7b8233a",
   "metadata": {},
   "outputs": [],
   "source": [
    "grouped_df = narrow_df.groupby(\"PostCode\")"
   ]
  },
  {
   "cell_type": "code",
   "execution_count": null,
   "id": "544bf805",
   "metadata": {
    "scrolled": true
   },
   "outputs": [],
   "source": [
    "avg_by_postalcode = grouped_df.mean()\n",
    "\n",
    "\n",
    "avg_by_postalcode.compute()"
   ]
  },
  {
   "cell_type": "code",
   "execution_count": null,
   "id": "a2143614",
   "metadata": {},
   "outputs": [],
   "source": []
  },
  {
   "cell_type": "code",
   "execution_count": null,
   "id": "8d6a1069",
   "metadata": {},
   "outputs": [],
   "source": []
  },
  {
   "cell_type": "code",
   "execution_count": null,
   "id": "d22f2586",
   "metadata": {},
   "outputs": [],
   "source": []
  },
  {
   "cell_type": "code",
   "execution_count": null,
   "id": "5812fda7",
   "metadata": {},
   "outputs": [],
   "source": []
  },
  {
   "cell_type": "code",
   "execution_count": null,
   "id": "6e69af70",
   "metadata": {},
   "outputs": [],
   "source": []
  },
  {
   "cell_type": "code",
   "execution_count": null,
   "id": "154fdc30",
   "metadata": {},
   "outputs": [],
   "source": []
  },
  {
   "cell_type": "code",
   "execution_count": null,
   "id": "e3fd880d",
   "metadata": {},
   "outputs": [],
   "source": [
    "sc.stop()"
   ]
  },
  {
   "cell_type": "code",
   "execution_count": null,
   "id": "2e586a86",
   "metadata": {},
   "outputs": [],
   "source": [
    "sqlContext.stop()"
   ]
  }
 ],
 "metadata": {
  "kernelspec": {
   "display_name": "Python 3 (ipykernel)",
   "language": "python",
   "name": "python3"
  },
  "language_info": {
   "codemirror_mode": {
    "name": "ipython",
    "version": 3
   },
   "file_extension": ".py",
   "mimetype": "text/x-python",
   "name": "python",
   "nbconvert_exporter": "python",
   "pygments_lexer": "ipython3",
   "version": "3.8.15"
  }
 },
 "nbformat": 4,
 "nbformat_minor": 5
}
