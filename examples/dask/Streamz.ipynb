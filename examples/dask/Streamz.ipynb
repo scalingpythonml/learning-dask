{
 "cells": [
  {
   "cell_type": "code",
   "execution_count": 2,
   "id": "a7384fb4-7fe2-439d-8d3c-dce250d968dd",
   "metadata": {},
   "outputs": [
    {
     "name": "stderr",
     "output_type": "stream",
     "text": [
      "/home/holden/.local/lib/python3.8/site-packages/distributed/node.py:183: UserWarning: Port 8787 is already in use.\n",
      "Perhaps you already have a cluster running?\n",
      "Hosting the HTTP server on port 42279 instead\n",
      "  warnings.warn(\n"
     ]
    }
   ],
   "source": [
    "#tag::get_started_streamz[]\n",
    "import dask\n",
    "import dask.dataframe as dd\n",
    "from streamz import Stream\n",
    "from dask.distributed import Client\n",
    "\n",
    "client = Client()\n",
    "#end::get_started_streamz[]"
   ]
  },
  {
   "cell_type": "code",
   "execution_count": 3,
   "id": "afbacf1a-dea6-4ee1-abbd-f89dde2d0909",
   "metadata": {},
   "outputs": [],
   "source": [
    "#tag::make_local_stream[]\n",
    "local_stream = Stream.from_iterable(\n",
    "    [\"Fight\",\n",
    "     \"Flight\",\n",
    "     \"Freeze\",\n",
    "     \"Fawn\"])\n",
    "dask_stream = local_stream.scatter()\n",
    "#end::make_local_stream[]"
   ]
  },
  {
   "cell_type": "code",
   "execution_count": 5,
   "id": "a39ccc5b-60eb-420d-b28f-2cc80526a001",
   "metadata": {},
   "outputs": [
    {
     "name": "stdout",
     "output_type": "stream",
     "text": [
      "Fight\n",
      "Flight\n",
      "Freeze\n",
      "Fawn\n"
     ]
    }
   ],
   "source": [
    "#tag::define_sink[]\n",
    "dask_stream.gather().sink(print)\n",
    "#end::define_sink[]\n",
    "#tag::run[]\n",
    "dask_stream.start()\n",
    "#end::run[]"
   ]
  },
  {
   "cell_type": "code",
   "execution_count": 6,
   "id": "b7be3f62-b905-4956-bc4a-4dec7c927ba0",
   "metadata": {},
   "outputs": [],
   "source": [
    "import time\n",
    "#time.sleep(5)"
   ]
  },
  {
   "cell_type": "code",
   "execution_count": 7,
   "id": "5931c131-ae7e-4a3d-8642-bf03c5e8ff08",
   "metadata": {},
   "outputs": [],
   "source": [
    "#tag::make_kafka_stream[]\n",
    "batched_kafka_stream = Stream.from_kafka_batched(\n",
    "    topic=\"quickstart-events\",\n",
    "    dask=True, # StreamZ will call scatter internally for us\n",
    "    max_batch_size = 2, # We want this to run quickly so small batches.\n",
    "    consumer_params={\n",
    "        'bootstrap.servers': 'localhost:9092',\n",
    "        'auto.offset.reset': 'earliest', #Start from the start\n",
    "        'group.id': 'my_special_streaming_app12'}, # Consumer group id, Kafka will only deliver messages once* per consumer group.\n",
    "         poll_interval=0.01) #Note some sources take a string and some take a float :/\n",
    "#end::make_kafka_stream[]"
   ]
  },
  {
   "cell_type": "code",
   "execution_count": null,
   "id": "c4417ba3-7823-4b87-b19b-e7dfe18693d7",
   "metadata": {},
   "outputs": [],
   "source": [
    "#tag::wc[]\n",
    "local_wc_stream = (batched_kafka_stream\n",
    "                   .map(lambda batch: map(lambda b: b.decode(\"utf-8\"), batch)) # .map gives us a per batch view, starmap per elem\n",
    "                   .map(lambda batch: map(lambda e: e.split(\" \"), batch))\n",
    "                   .map(list)\n",
    "                   .gather()\n",
    "                   .flatten().flatten() # We need to flatten twice.\n",
    "                    .frequencies()\n",
    "                  ) #ideally we'd call flatten frequencies before the gather, but they don't work on DaskStream\n",
    "local_wc_stream.sink(lambda x: print(f\"WC {x}\"))\n",
    "batched_kafka_stream.start() # Start processing the stream now that we've defined our sinks.\n",
    "#end::wc[]"
   ]
  },
  {
   "cell_type": "code",
   "execution_count": null,
   "id": "23256325-3059-4f58-b357-17996bcbd806",
   "metadata": {},
   "outputs": [],
   "source": [
    "#tag::wc_windowed[]\n",
    "windowed = (batched_kafka_stream\n",
    "                   .map(lambda batch: map(lambda b: b.decode(\"utf-8\"), batch)) # .map gives us a per batch view, starmap per elem\n",
    "                   .map(lambda batch: map(lambda e: e.split(\" \"), batch))\n",
    "                   .map(list)\n",
    "                   .sliding_window(3) # Last three batches, note this creates state (yay?)\n",
    "                   .gather()\n",
    "                   .flatten().flatten().flatten() # We need to flatten *three* times.\n",
    "                    .frequencies()\n",
    "                  ) #ideally we'd call flatten frequencies before the gather, but they don't work on DaskStream\n",
    "windowed.sink(lambda x: print(f\"WINDOWED {x}\"))\n",
    "#end::wc_windowed[]"
   ]
  },
  {
   "cell_type": "code",
   "execution_count": null,
   "id": "a70e60ba-edca-4d3f-b7fa-e9d1ec4768aa",
   "metadata": {},
   "outputs": [],
   "source": []
  },
  {
   "cell_type": "code",
   "execution_count": null,
   "id": "d4adc4b7-6d4e-4813-8f37-673b5fae9aeb",
   "metadata": {},
   "outputs": [],
   "source": [
    "time.sleep(5)"
   ]
  },
  {
   "cell_type": "code",
   "execution_count": null,
   "id": "9edb8588-71e7-4eaa-91f5-ad35191cb82c",
   "metadata": {},
   "outputs": [],
   "source": []
  }
 ],
 "metadata": {
  "kernelspec": {
   "display_name": "Python 3 (ipykernel)",
   "language": "python",
   "name": "python3"
  },
  "language_info": {
   "codemirror_mode": {
    "name": "ipython",
    "version": 3
   },
   "file_extension": ".py",
   "mimetype": "text/x-python",
   "name": "python",
   "nbconvert_exporter": "python",
   "pygments_lexer": "ipython3",
   "version": "3.8.15"
  }
 },
 "nbformat": 4,
 "nbformat_minor": 5
}
